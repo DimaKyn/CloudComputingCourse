{
  "nbformat": 4,
  "nbformat_minor": 0,
  "metadata": {
    "colab": {
      "provenance": []
    },
    "kernelspec": {
      "name": "python3",
      "display_name": "Python 3"
    },
    "language_info": {
      "name": "python"
    },
    "widgets": {
      "application/vnd.jupyter.widget-state+json": {
        "52fa55c507b24f5db8badea10281ffdf": {
          "model_module": "@jupyter-widgets/controls",
          "model_name": "ButtonModel",
          "model_module_version": "1.5.0",
          "state": {
            "_dom_classes": [],
            "_model_module": "@jupyter-widgets/controls",
            "_model_module_version": "1.5.0",
            "_model_name": "ButtonModel",
            "_view_count": null,
            "_view_module": "@jupyter-widgets/controls",
            "_view_module_version": "1.5.0",
            "_view_name": "ButtonView",
            "button_style": "",
            "description": "Joseph Mulherin data",
            "disabled": false,
            "icon": "",
            "layout": "IPY_MODEL_9aced0a00fd9451088fbf7496b8b1f32",
            "style": "IPY_MODEL_0d785d0cf3144ab89c890cf0fc3ebcaf",
            "tooltip": ""
          }
        },
        "9aced0a00fd9451088fbf7496b8b1f32": {
          "model_module": "@jupyter-widgets/base",
          "model_name": "LayoutModel",
          "model_module_version": "1.2.0",
          "state": {
            "_model_module": "@jupyter-widgets/base",
            "_model_module_version": "1.2.0",
            "_model_name": "LayoutModel",
            "_view_count": null,
            "_view_module": "@jupyter-widgets/base",
            "_view_module_version": "1.2.0",
            "_view_name": "LayoutView",
            "align_content": null,
            "align_items": null,
            "align_self": null,
            "border": null,
            "bottom": null,
            "display": null,
            "flex": null,
            "flex_flow": null,
            "grid_area": null,
            "grid_auto_columns": null,
            "grid_auto_flow": null,
            "grid_auto_rows": null,
            "grid_column": null,
            "grid_gap": null,
            "grid_row": null,
            "grid_template_areas": null,
            "grid_template_columns": null,
            "grid_template_rows": null,
            "height": null,
            "justify_content": null,
            "justify_items": null,
            "left": null,
            "margin": null,
            "max_height": null,
            "max_width": null,
            "min_height": null,
            "min_width": null,
            "object_fit": null,
            "object_position": null,
            "order": null,
            "overflow": null,
            "overflow_x": null,
            "overflow_y": null,
            "padding": null,
            "right": null,
            "top": null,
            "visibility": null,
            "width": null
          }
        },
        "0d785d0cf3144ab89c890cf0fc3ebcaf": {
          "model_module": "@jupyter-widgets/controls",
          "model_name": "ButtonStyleModel",
          "model_module_version": "1.5.0",
          "state": {
            "_model_module": "@jupyter-widgets/controls",
            "_model_module_version": "1.5.0",
            "_model_name": "ButtonStyleModel",
            "_view_count": null,
            "_view_module": "@jupyter-widgets/base",
            "_view_module_version": "1.2.0",
            "_view_name": "StyleView",
            "button_color": null,
            "font_weight": ""
          }
        },
        "265e6144b15a4c94a3d12a516166c221": {
          "model_module": "@jupyter-widgets/controls",
          "model_name": "ButtonModel",
          "model_module_version": "1.5.0",
          "state": {
            "_dom_classes": [],
            "_model_module": "@jupyter-widgets/controls",
            "_model_module_version": "1.5.0",
            "_model_name": "ButtonModel",
            "_view_count": null,
            "_view_module": "@jupyter-widgets/controls",
            "_view_module_version": "1.5.0",
            "_view_name": "ButtonView",
            "button_style": "",
            "description": "Add to Joseph Mulherin",
            "disabled": false,
            "icon": "",
            "layout": "IPY_MODEL_3c8f0e3fa2194402aa92bd4ed15c74ae",
            "style": "IPY_MODEL_ba07dab2188144338014ce4368170f0f",
            "tooltip": ""
          }
        },
        "3c8f0e3fa2194402aa92bd4ed15c74ae": {
          "model_module": "@jupyter-widgets/base",
          "model_name": "LayoutModel",
          "model_module_version": "1.2.0",
          "state": {
            "_model_module": "@jupyter-widgets/base",
            "_model_module_version": "1.2.0",
            "_model_name": "LayoutModel",
            "_view_count": null,
            "_view_module": "@jupyter-widgets/base",
            "_view_module_version": "1.2.0",
            "_view_name": "LayoutView",
            "align_content": null,
            "align_items": null,
            "align_self": null,
            "border": null,
            "bottom": null,
            "display": null,
            "flex": null,
            "flex_flow": null,
            "grid_area": null,
            "grid_auto_columns": null,
            "grid_auto_flow": null,
            "grid_auto_rows": null,
            "grid_column": null,
            "grid_gap": null,
            "grid_row": null,
            "grid_template_areas": null,
            "grid_template_columns": null,
            "grid_template_rows": null,
            "height": null,
            "justify_content": null,
            "justify_items": null,
            "left": null,
            "margin": null,
            "max_height": null,
            "max_width": null,
            "min_height": null,
            "min_width": null,
            "object_fit": null,
            "object_position": null,
            "order": null,
            "overflow": null,
            "overflow_x": null,
            "overflow_y": null,
            "padding": null,
            "right": null,
            "top": null,
            "visibility": null,
            "width": null
          }
        },
        "ba07dab2188144338014ce4368170f0f": {
          "model_module": "@jupyter-widgets/controls",
          "model_name": "ButtonStyleModel",
          "model_module_version": "1.5.0",
          "state": {
            "_model_module": "@jupyter-widgets/controls",
            "_model_module_version": "1.5.0",
            "_model_name": "ButtonStyleModel",
            "_view_count": null,
            "_view_module": "@jupyter-widgets/base",
            "_view_module_version": "1.2.0",
            "_view_name": "StyleView",
            "button_color": null,
            "font_weight": ""
          }
        }
      }
    }
  },
  "cells": [
    {
      "cell_type": "code",
      "execution_count": 108,
      "metadata": {
        "colab": {
          "base_uri": "https://localhost:8080/"
        },
        "id": "ykm1xJHs1ryO",
        "outputId": "9fa65855-09a9-4284-a4e7-b0d3d59ea57e"
      },
      "outputs": [
        {
          "output_type": "stream",
          "name": "stdout",
          "text": [
            "Drive already mounted at /content/drive; to attempt to forcibly remount, call drive.mount(\"/content/drive\", force_remount=True).\n"
          ]
        }
      ],
      "source": [
        "from google.colab import drive\n",
        "drive.mount('/content/drive')"
      ]
    },
    {
      "cell_type": "code",
      "source": [
        "import ipywidgets as widgets\n",
        "from IPython.display import display"
      ],
      "metadata": {
        "id": "kgaod3R76QXl"
      },
      "execution_count": 109,
      "outputs": []
    },
    {
      "cell_type": "code",
      "source": [
        "with open ('/content/drive/MyDrive/Cloud_practice/students.txt', 'r') as f:\n",
        "  data = f.read()\n",
        "data = data.split('\\n')\n",
        "\n",
        "for i, studentInfo in enumerate(data):\n",
        "  data[i] = studentInfo.split(' ')\n",
        "\n",
        "students = []\n",
        "for i, student in enumerate(data):\n",
        "  studentInfo = []\n",
        "  for j, info in enumerate(student):\n",
        "    if j == 0:\n",
        "      studentInfo.append(student[j])\n",
        "    elif j == 1:\n",
        "      studentInfo[0] += \" \" + student[j]\n",
        "    else:\n",
        "      studentInfo.append(student[j])\n",
        "  students.append(studentInfo)\n",
        "\n",
        "for student in students:\n",
        "  print(student)"
      ],
      "metadata": {
        "colab": {
          "base_uri": "https://localhost:8080/"
        },
        "id": "o3cF48q06cI2",
        "outputId": "a122e8bb-600a-4cbe-e8d4-e7e9f6bbb13e"
      },
      "execution_count": 116,
      "outputs": [
        {
          "output_type": "stream",
          "name": "stdout",
          "text": [
            "['Dima Kislitsyn', 'dmytrikislitsyn@e.braude.ac.il', 'CloudComputing,BlockchainAndCryptocurrencies,IntroductionToArtificialIntelligence', 'https://github.com/DimaKyn']\n",
            "['Rick Astley', 'Rickastley@e.braude.ac.il', 'Never,Gonna,Give,You,Up', 'https://www.youtube.com/watch?v=dQw4w9WgXcQ']\n",
            "['Joseph Mulherin', 'JosephMulherin@e.braude.ac.il', 'Physics3,Calculus3,Algebra3,Probability,DiscreteMath2', 'https://www.youtube.com/watch?v=Q--W-HgqzeU']\n"
          ]
        }
      ]
    },
    {
      "cell_type": "code",
      "source": [
        "\n",
        "def on_button_clicked(b):\n",
        "\n",
        "  print(\"Name:\", students[index][0])\n",
        "  print(\"Email:\", students[index][1])\n",
        "  print(\"Courses:\", students[index][2].split(','))\n",
        "  print(\"Interesting link:\", students[index][3])\n",
        "\n",
        "# @title Form: Display info about chosen student\n",
        "studentName = \"Joseph Mulherin\" # @param [\"Dima Kislitsyn\",\"Rick Astley\",\"Joseph Mulherin\"]\n",
        "index = 0\n",
        "\n",
        "if studentName == \"Dima Kislitsyn\":\n",
        "  index = 0\n",
        "elif studentName == \"Rick Astley\":\n",
        "  index = 1\n",
        "elif studentName == \"Joseph Mulherin\":\n",
        "  index = 2\n",
        "\n",
        "buttonViewInfo = widgets.Button(description=f\"{studentName} data\")\n",
        "buttonViewInfo.on_click(on_button_clicked)\n",
        "display(buttonViewInfo)"
      ],
      "metadata": {
        "colab": {
          "base_uri": "https://localhost:8080/",
          "height": 118,
          "referenced_widgets": [
            "52fa55c507b24f5db8badea10281ffdf",
            "9aced0a00fd9451088fbf7496b8b1f32",
            "0d785d0cf3144ab89c890cf0fc3ebcaf"
          ]
        },
        "id": "yHzakgtu13H2",
        "outputId": "bbc86e96-b1cb-4e8c-beed-4f55f17e86d9"
      },
      "execution_count": 117,
      "outputs": [
        {
          "output_type": "display_data",
          "data": {
            "text/plain": [
              "Button(description='Joseph Mulherin data', style=ButtonStyle())"
            ],
            "application/vnd.jupyter.widget-view+json": {
              "version_major": 2,
              "version_minor": 0,
              "model_id": "52fa55c507b24f5db8badea10281ffdf"
            }
          },
          "metadata": {}
        },
        {
          "output_type": "stream",
          "name": "stdout",
          "text": [
            "Name: Joseph Mulherin\n",
            "Email: JosephMulherin@e.braude.ac.il\n",
            "Courses: ['Physics3', 'Calculus3', 'Algebra3', 'Probability', 'DiscreteMath2']\n",
            "Interesting link: https://www.youtube.com/watch?v=Q--W-HgqzeU\n"
          ]
        }
      ]
    },
    {
      "cell_type": "markdown",
      "source": [
        "**Add favorite TV show to student**"
      ],
      "metadata": {
        "id": "iEsb2JzHBRTd"
      }
    },
    {
      "cell_type": "code",
      "source": [
        "with open ('/content/drive/MyDrive/Cloud_practice/students.txt', 'r') as f:\n",
        "  data = f.read()\n",
        "print(data)"
      ],
      "metadata": {
        "colab": {
          "base_uri": "https://localhost:8080/"
        },
        "id": "YNY8eQS8Ccpo",
        "outputId": "db2eecae-7fdb-4020-b8d3-143b6955e6c9"
      },
      "execution_count": 118,
      "outputs": [
        {
          "output_type": "stream",
          "name": "stdout",
          "text": [
            "Dima Kislitsyn dmytrikislitsyn@e.braude.ac.il CloudComputing,BlockchainAndCryptocurrencies,IntroductionToArtificialIntelligence https://github.com/DimaKyn\n",
            "Rick Astley Rickastley@e.braude.ac.il Never,Gonna,Give,You,Up https://www.youtube.com/watch?v=dQw4w9WgXcQ\n",
            "Joseph Mulherin JosephMulherin@e.braude.ac.il Physics3,Calculus3,Algebra3,Probability,DiscreteMath2 https://www.youtube.com/watch?v=Q--W-HgqzeU\n"
          ]
        }
      ]
    },
    {
      "cell_type": "code",
      "source": [
        "# @title Default title text\n",
        "favShow = \"Stranger Things\" # @param {\"type\":\"string\",\"placeholder\":\"Arthur\"}\n",
        "def on_show_clicked(b):\n",
        "  stringToAdd = \"\\n\" + \" \".join(students[index]) + \" \" + favShow\n",
        "  print(stringToAdd)\n",
        "  with open ('/content/drive/MyDrive/Cloud_practice/students.txt', 'a') as f:\n",
        "    f.write(stringToAdd)\n",
        "\n",
        "buttonAddShow = widgets.Button(description=f\"Add to {studentName}\")\n",
        "buttonAddShow.on_click(on_show_clicked)\n",
        "\n",
        "display(buttonAddShow)"
      ],
      "metadata": {
        "colab": {
          "base_uri": "https://localhost:8080/",
          "height": 84,
          "referenced_widgets": [
            "265e6144b15a4c94a3d12a516166c221",
            "3c8f0e3fa2194402aa92bd4ed15c74ae",
            "ba07dab2188144338014ce4368170f0f"
          ]
        },
        "id": "6ErvdrVX6OBi",
        "outputId": "0e7efa96-ee68-45f4-ac2c-9430268049c6"
      },
      "execution_count": 119,
      "outputs": [
        {
          "output_type": "display_data",
          "data": {
            "text/plain": [
              "Button(description='Add to Joseph Mulherin', style=ButtonStyle())"
            ],
            "application/vnd.jupyter.widget-view+json": {
              "version_major": 2,
              "version_minor": 0,
              "model_id": "265e6144b15a4c94a3d12a516166c221"
            }
          },
          "metadata": {}
        },
        {
          "output_type": "stream",
          "name": "stdout",
          "text": [
            "\n",
            "Joseph Mulherin JosephMulherin@e.braude.ac.il Physics3,Calculus3,Algebra3,Probability,DiscreteMath2 https://www.youtube.com/watch?v=Q--W-HgqzeU Stranger Things\n"
          ]
        }
      ]
    },
    {
      "cell_type": "code",
      "source": [
        "with open ('/content/drive/MyDrive/Cloud_practice/students.txt', 'r') as f:\n",
        "  data = f.read()\n",
        "print(data)"
      ],
      "metadata": {
        "colab": {
          "base_uri": "https://localhost:8080/"
        },
        "id": "rMsm1CRIChsh",
        "outputId": "18014168-6def-4ee3-c956-52355dd6717f"
      },
      "execution_count": 120,
      "outputs": [
        {
          "output_type": "stream",
          "name": "stdout",
          "text": [
            "Dima Kislitsyn dmytrikislitsyn@e.braude.ac.il CloudComputing,BlockchainAndCryptocurrencies,IntroductionToArtificialIntelligence https://github.com/DimaKyn\n",
            "Rick Astley Rickastley@e.braude.ac.il Never,Gonna,Give,You,Up https://www.youtube.com/watch?v=dQw4w9WgXcQ\n",
            "Joseph Mulherin JosephMulherin@e.braude.ac.il Physics3,Calculus3,Algebra3,Probability,DiscreteMath2 https://www.youtube.com/watch?v=Q--W-HgqzeU\n",
            "Joseph Mulherin JosephMulherin@e.braude.ac.il Physics3,Calculus3,Algebra3,Probability,DiscreteMath2 https://www.youtube.com/watch?v=Q--W-HgqzeU Stranger Things\n"
          ]
        }
      ]
    }
  ]
}