{
  "nbformat": 4,
  "nbformat_minor": 0,
  "metadata": {
    "colab": {
      "provenance": []
    },
    "kernelspec": {
      "name": "python3",
      "display_name": "Python 3"
    },
    "language_info": {
      "name": "python"
    },
    "widgets": {
      "application/vnd.jupyter.widget-state+json": {
        "585ff896de324218a6f37bdd2227ec86": {
          "model_module": "@jupyter-widgets/controls",
          "model_name": "VBoxModel",
          "model_module_version": "1.5.0",
          "state": {
            "_dom_classes": [],
            "_model_module": "@jupyter-widgets/controls",
            "_model_module_version": "1.5.0",
            "_model_name": "VBoxModel",
            "_view_count": null,
            "_view_module": "@jupyter-widgets/controls",
            "_view_module_version": "1.5.0",
            "_view_name": "VBoxView",
            "box_style": "",
            "children": [
              "IPY_MODEL_3bdee8716748419aae87ed78e30a4c04",
              "IPY_MODEL_317c9ac0a727410ab25edc1933e2ed80",
              "IPY_MODEL_f13731d11af04d698b05742e9f338452"
            ],
            "layout": "IPY_MODEL_6e1f850bdd484927858bf4d5a3361f28"
          }
        },
        "3bdee8716748419aae87ed78e30a4c04": {
          "model_module": "@jupyter-widgets/controls",
          "model_name": "DropdownModel",
          "model_module_version": "1.5.0",
          "state": {
            "_dom_classes": [],
            "_model_module": "@jupyter-widgets/controls",
            "_model_module_version": "1.5.0",
            "_model_name": "DropdownModel",
            "_options_labels": [
              "סוזוקי-יפן",
              "סקודה צ'כיה",
              "ב מ וו גרמניה",
              "קיה קוריאה",
              "מזדה יפן",
              "יונדאי צ'כיה",
              "יונדאי קוריאה",
              "יונדאי טורקיה",
              "אורה סין",
              "מזדה תאילנד",
              "מיצובישי יפן",
              "קאדילאק ארה\"ב",
              "קיה סלובקיה",
              "מרוטי-סוזוקי",
              "מרצדס בנץ ארהב",
              "טויוטה יפן",
              "הונדה-יפן",
              "שברולט ד.קוריא",
              "אלפא רומיאו",
              "וולבו בלגיה",
              "מרצדס בנץ גרמנ",
              "מיצובישי תאילנ",
              "טסלה סין",
              "פורד ספרד",
              "ב מ וו אוסטריה",
              "טויוטה טורקיה",
              "פיג'ו צרפת",
              "סוזוקי הונגריה",
              "פולקסווגן מכסי",
              "סובארו יפן",
              "פורד גרמניה",
              "פורד-בלגיה",
              "יונדאי הודו",
              "טויוטה צרפת",
              "ג'יפ ארה\"ב",
              "טויוטה אנגליה",
              "פיאט תורכיה",
              "דייהטסו-יפן",
              "הונדה טורקיה",
              "לקסוס יפן",
              "פולקסווגן גרמנ",
              "שברולט ארה\"ב",
              "ב מ וו ארה\"ב",
              "פיג'ו ספרד",
              "שברולט מקסיקו",
              "סיטרואן צרפת",
              "רובר אנגליה",
              "טויוטה ארה\"ב",
              "פולקסווגן-ספרד",
              "גילי סין",
              "הונדה בריטניה",
              "דימלרקריזלר-גר",
              "ג'ילי זיקר",
              "יגואר",
              "סיטרואן סלובק",
              "סיאט ספרד",
              "טסלה ארה''ב",
              "שברולט קנדה",
              "אופל פולין",
              "סיטרואן צ'כיה",
              "אופל אנגליה",
              "ביואיק ארהב",
              "ג'יפ איטליה",
              "פיאט פולין",
              "פורד תורכיה",
              "סיטרואן ספרד",
              "קרייזלר ארה\"ב",
              "ניסאן אנגליה",
              "איסוזו תאילנד",
              "ניסאן יפן",
              "מ.ג סין",
              "רנו ספרד",
              "אאודי",
              "אאודי סלובקיה",
              "ניסאן מקסיקו",
              "רנו טורקיה",
              "איסוזו ארה\"ב",
              "בי ווי די",
              "אופל-גרמניה",
              "סקודה סלובקיה",
              "מרצדס בנץ הונג",
              "ביואיק_מקסיקו",
              "רנו צרפת",
              "מרצדס בנץ ספרד",
              "אאודי בלגיה",
              "פולקסווגן סלוב",
              "טויוטה תאילנד",
              "פיג'ו סלובקיה",
              "איויאיסי סין",
              "רנו ד.קוריאה",
              "אקספנג סין",
              "צ'רי סין",
              "טסלה גרמניה",
              "טויוטה ספרד",
              "פולקסווגן פורט",
              "פורשה גרמניה",
              "לנדרובר סלובקי",
              "סוזוקי תאילנד",
              "סאנגיונג ד.קור",
              "מרצדס בנץ ד.אפ",
              "טויוטה צ'כיה",
              "אופל-ספרד",
              "פיאט איטליה",
              "קיה מכסיקו",
              "דאציה רומניה",
              "וולבו סין",
              "הונדה הודו",
              "הונדה מקסיקו",
              "וולבו שוודיה",
              "קרייזלר קנדה",
              "אופל-בלגיה",
              "ג'.מ ארה\"ב",
              "אודי מכסיקו",
              "סיטרואן פורטוג",
              "טויוטה בלגיה",
              "מזארטי איטליה",
              "ביואיק קנדה",
              "סיאט צ'כיה",
              "ב מ וו בריטניה",
              "ניסאן ארה\"ב",
              "ניסאן הודו",
              "סיטרואן תורכיה",
              "סקיוול סין",
              "ג'אקו סין",
              "ב מ וו סין",
              "קרייזלר-אוסטרי",
              "וולבו הולנד",
              "פורד קנדה",
              "ב מ וו מקסיקו",
              "קאדילאק מכסיקו",
              "קרייזלר מכסיקו",
              "סאאב שודיה",
              "פורד ארה\"ב",
              "הונדה תאילנד",
              "סרס סין",
              "ב מ וו הולנד",
              "פורד בריטניה",
              "מרצדס-בנץ אוסט",
              "מקסוס סין",
              "אונג'ר פולין",
              "קיי גי מוביליט",
              "וואי סין",
              "לנצ'יה",
              "פיג'ו צ'כיה",
              "דאציה מרוקו",
              "פולקסווגן פולי",
              "איסוזו יפן",
              "ניסאן ספרד",
              "מיצובישי הולנד",
              "ג'יפ מכסיקו",
              "הונדה-ארה\"ב",
              "וולבו ארה\"ב",
              "לנדרובר אנגליה",
              "סמארט צרפת",
              "איווייס סין",
              "דודג' קנדה",
              "לינק אנד קו",
              "אאודי הונגריה",
              "אופל צרפת",
              "סובארו ארה\"ב",
              "אאודי ספרד",
              "די.אס צרפת",
              "רנו סלובניה",
              "אופל ד.קוריאה",
              "דייהו קוריאה ד",
              "אמ.סי.סי.",
              "גרייט וול סין",
              "פורשה סלובקיה",
              "פורד רומניה",
              "פולקסווגן סין",
              "לנציה פולין",
              "סמארט סלובניה",
              "רנו רומניה",
              "סיאט בלגיה",
              "פולקסווגן בלגי",
              "פורתינג סין",
              "קופרה ספרד",
              "ליפמוטור סין",
              "סיאט גרמניה",
              "ג'י.אמ.סי",
              "בנטלי בריטניה",
              "פיאט פורטוגל",
              "פולקסווגן ד.אפ"
            ],
            "_view_count": null,
            "_view_module": "@jupyter-widgets/controls",
            "_view_module_version": "1.5.0",
            "_view_name": "DropdownView",
            "description": "Manufacturer:",
            "description_tooltip": null,
            "disabled": false,
            "index": 14,
            "layout": "IPY_MODEL_f48da407010f4213b0880537344158e3",
            "style": "IPY_MODEL_6375f7e22b644b96ad0579ab14b7a1e0"
          }
        },
        "317c9ac0a727410ab25edc1933e2ed80": {
          "model_module": "@jupyter-widgets/controls",
          "model_name": "DropdownModel",
          "model_module_version": "1.5.0",
          "state": {
            "_dom_classes": [],
            "_model_module": "@jupyter-widgets/controls",
            "_model_module_version": "1.5.0",
            "_model_name": "DropdownModel",
            "_options_labels": [
              "ML350 4MATIC",
              "ML350 BLUETEC",
              "GLE400D COUPE",
              "GLE500E",
              "ML300CDI",
              "ML350",
              "GLE350DE 4M COU",
              "GLE350DE COUPE",
              "GLE 350D 4MATIC",
              "GLS350D",
              "ML350CDI",
              "GLE450E 4MATIC",
              "GLE53 COUPE AMG",
              "GLE350 4MATIC",
              "GLE350D 4MATIC",
              "GLE350 DE4MATIC",
              "ML350CDI 4MATIC",
              "GLS400D 4MATIC",
              "GLE53 4MATIC"
            ],
            "_view_count": null,
            "_view_module": "@jupyter-widgets/controls",
            "_view_module_version": "1.5.0",
            "_view_name": "DropdownView",
            "description": "Model:",
            "description_tooltip": null,
            "disabled": false,
            "index": 11,
            "layout": "IPY_MODEL_3d746a806cc84c3ebcb70e431fc2f442",
            "style": "IPY_MODEL_bfd6fcef76484b5ba5b2212da2875c47"
          }
        },
        "f13731d11af04d698b05742e9f338452": {
          "model_module": "@jupyter-widgets/controls",
          "model_name": "ButtonModel",
          "model_module_version": "1.5.0",
          "state": {
            "_dom_classes": [],
            "_model_module": "@jupyter-widgets/controls",
            "_model_module_version": "1.5.0",
            "_model_name": "ButtonModel",
            "_view_count": null,
            "_view_module": "@jupyter-widgets/controls",
            "_view_module_version": "1.5.0",
            "_view_name": "ButtonView",
            "button_style": "",
            "description": "Update Records",
            "disabled": false,
            "icon": "",
            "layout": "IPY_MODEL_e29c50c97bab4423bee87fa8f5a6f5ca",
            "style": "IPY_MODEL_2400bb29e48d41f29e542c86eb4900c9",
            "tooltip": ""
          }
        },
        "6e1f850bdd484927858bf4d5a3361f28": {
          "model_module": "@jupyter-widgets/base",
          "model_name": "LayoutModel",
          "model_module_version": "1.2.0",
          "state": {
            "_model_module": "@jupyter-widgets/base",
            "_model_module_version": "1.2.0",
            "_model_name": "LayoutModel",
            "_view_count": null,
            "_view_module": "@jupyter-widgets/base",
            "_view_module_version": "1.2.0",
            "_view_name": "LayoutView",
            "align_content": null,
            "align_items": null,
            "align_self": null,
            "border": null,
            "bottom": null,
            "display": null,
            "flex": null,
            "flex_flow": null,
            "grid_area": null,
            "grid_auto_columns": null,
            "grid_auto_flow": null,
            "grid_auto_rows": null,
            "grid_column": null,
            "grid_gap": null,
            "grid_row": null,
            "grid_template_areas": null,
            "grid_template_columns": null,
            "grid_template_rows": null,
            "height": null,
            "justify_content": null,
            "justify_items": null,
            "left": null,
            "margin": null,
            "max_height": null,
            "max_width": null,
            "min_height": null,
            "min_width": null,
            "object_fit": null,
            "object_position": null,
            "order": null,
            "overflow": null,
            "overflow_x": null,
            "overflow_y": null,
            "padding": null,
            "right": null,
            "top": null,
            "visibility": null,
            "width": null
          }
        },
        "f48da407010f4213b0880537344158e3": {
          "model_module": "@jupyter-widgets/base",
          "model_name": "LayoutModel",
          "model_module_version": "1.2.0",
          "state": {
            "_model_module": "@jupyter-widgets/base",
            "_model_module_version": "1.2.0",
            "_model_name": "LayoutModel",
            "_view_count": null,
            "_view_module": "@jupyter-widgets/base",
            "_view_module_version": "1.2.0",
            "_view_name": "LayoutView",
            "align_content": null,
            "align_items": null,
            "align_self": null,
            "border": null,
            "bottom": null,
            "display": null,
            "flex": null,
            "flex_flow": null,
            "grid_area": null,
            "grid_auto_columns": null,
            "grid_auto_flow": null,
            "grid_auto_rows": null,
            "grid_column": null,
            "grid_gap": null,
            "grid_row": null,
            "grid_template_areas": null,
            "grid_template_columns": null,
            "grid_template_rows": null,
            "height": null,
            "justify_content": null,
            "justify_items": null,
            "left": null,
            "margin": null,
            "max_height": null,
            "max_width": null,
            "min_height": null,
            "min_width": null,
            "object_fit": null,
            "object_position": null,
            "order": null,
            "overflow": null,
            "overflow_x": null,
            "overflow_y": null,
            "padding": null,
            "right": null,
            "top": null,
            "visibility": null,
            "width": null
          }
        },
        "6375f7e22b644b96ad0579ab14b7a1e0": {
          "model_module": "@jupyter-widgets/controls",
          "model_name": "DescriptionStyleModel",
          "model_module_version": "1.5.0",
          "state": {
            "_model_module": "@jupyter-widgets/controls",
            "_model_module_version": "1.5.0",
            "_model_name": "DescriptionStyleModel",
            "_view_count": null,
            "_view_module": "@jupyter-widgets/base",
            "_view_module_version": "1.2.0",
            "_view_name": "StyleView",
            "description_width": "initial"
          }
        },
        "3d746a806cc84c3ebcb70e431fc2f442": {
          "model_module": "@jupyter-widgets/base",
          "model_name": "LayoutModel",
          "model_module_version": "1.2.0",
          "state": {
            "_model_module": "@jupyter-widgets/base",
            "_model_module_version": "1.2.0",
            "_model_name": "LayoutModel",
            "_view_count": null,
            "_view_module": "@jupyter-widgets/base",
            "_view_module_version": "1.2.0",
            "_view_name": "LayoutView",
            "align_content": null,
            "align_items": null,
            "align_self": null,
            "border": null,
            "bottom": null,
            "display": null,
            "flex": null,
            "flex_flow": null,
            "grid_area": null,
            "grid_auto_columns": null,
            "grid_auto_flow": null,
            "grid_auto_rows": null,
            "grid_column": null,
            "grid_gap": null,
            "grid_row": null,
            "grid_template_areas": null,
            "grid_template_columns": null,
            "grid_template_rows": null,
            "height": null,
            "justify_content": null,
            "justify_items": null,
            "left": null,
            "margin": null,
            "max_height": null,
            "max_width": null,
            "min_height": null,
            "min_width": null,
            "object_fit": null,
            "object_position": null,
            "order": null,
            "overflow": null,
            "overflow_x": null,
            "overflow_y": null,
            "padding": null,
            "right": null,
            "top": null,
            "visibility": null,
            "width": null
          }
        },
        "bfd6fcef76484b5ba5b2212da2875c47": {
          "model_module": "@jupyter-widgets/controls",
          "model_name": "DescriptionStyleModel",
          "model_module_version": "1.5.0",
          "state": {
            "_model_module": "@jupyter-widgets/controls",
            "_model_module_version": "1.5.0",
            "_model_name": "DescriptionStyleModel",
            "_view_count": null,
            "_view_module": "@jupyter-widgets/base",
            "_view_module_version": "1.2.0",
            "_view_name": "StyleView",
            "description_width": "initial"
          }
        },
        "e29c50c97bab4423bee87fa8f5a6f5ca": {
          "model_module": "@jupyter-widgets/base",
          "model_name": "LayoutModel",
          "model_module_version": "1.2.0",
          "state": {
            "_model_module": "@jupyter-widgets/base",
            "_model_module_version": "1.2.0",
            "_model_name": "LayoutModel",
            "_view_count": null,
            "_view_module": "@jupyter-widgets/base",
            "_view_module_version": "1.2.0",
            "_view_name": "LayoutView",
            "align_content": null,
            "align_items": null,
            "align_self": null,
            "border": null,
            "bottom": null,
            "display": null,
            "flex": null,
            "flex_flow": null,
            "grid_area": null,
            "grid_auto_columns": null,
            "grid_auto_flow": null,
            "grid_auto_rows": null,
            "grid_column": null,
            "grid_gap": null,
            "grid_row": null,
            "grid_template_areas": null,
            "grid_template_columns": null,
            "grid_template_rows": null,
            "height": null,
            "justify_content": null,
            "justify_items": null,
            "left": null,
            "margin": null,
            "max_height": null,
            "max_width": null,
            "min_height": null,
            "min_width": null,
            "object_fit": null,
            "object_position": null,
            "order": null,
            "overflow": null,
            "overflow_x": null,
            "overflow_y": null,
            "padding": null,
            "right": null,
            "top": null,
            "visibility": null,
            "width": null
          }
        },
        "2400bb29e48d41f29e542c86eb4900c9": {
          "model_module": "@jupyter-widgets/controls",
          "model_name": "ButtonStyleModel",
          "model_module_version": "1.5.0",
          "state": {
            "_model_module": "@jupyter-widgets/controls",
            "_model_module_version": "1.5.0",
            "_model_name": "ButtonStyleModel",
            "_view_count": null,
            "_view_module": "@jupyter-widgets/base",
            "_view_module_version": "1.2.0",
            "_view_name": "StyleView",
            "button_color": null,
            "font_weight": ""
          }
        }
      }
    }
  },
  "cells": [
    {
      "cell_type": "markdown",
      "source": [
        "Imports\n",
        "\n"
      ],
      "metadata": {
        "id": "tyBVvfSmPy7Y"
      }
    },
    {
      "cell_type": "code",
      "execution_count": 29,
      "metadata": {
        "colab": {
          "base_uri": "https://localhost:8080/",
          "height": 313
        },
        "id": "AYyKXRYRxbjP",
        "outputId": "c9b35ffc-54bc-4529-d791-a80d58a10adf"
      },
      "outputs": [
        {
          "output_type": "execute_result",
          "data": {
            "text/plain": [
              "   _id  mispar_rechev  tozeret_cd sug_degem     tozeret_nm  degem_cd  \\\n",
              "0    1        7709728         683         P     סוזוקי-יפן       351   \n",
              "1    2       85729303         676         P    סקודה צ'כיה      1569   \n",
              "2    3        9801152         676         P    סקודה צ'כיה       302   \n",
              "3    4       53052702         676         P    סקודה צ'כיה      1065   \n",
              "4    5       45282502         143         P  ב מ וו גרמניה      1296   \n",
              "\n",
              "    degem_nm ramat_gimur  ramat_eivzur_betihuty  kvutzat_zihum  shnat_yitzur  \\\n",
              "0     FHX51S          GL                    NaN            NaN          2001   \n",
              "1  NX-NX34JD       STYLE                    5.0            7.0          2024   \n",
              "2     5E3434    ELEGANCE                    NaN           15.0          2014   \n",
              "3     NX33LD     DYNAMIC                    2.0            7.0          2021   \n",
              "4       71DY    BUSINESS                    3.0           12.0          2021   \n",
              "\n",
              "  degem_manoa mivchan_acharon_dt    tokef_dt baalut           misgeret  \\\n",
              "0        M13A         2024-07-11  2024-12-03   פרטי  JSAFHX51S10100474   \n",
              "1         DFY         2024-08-07  2025-08-06   פרטי  TMBAR8NXXRY178334   \n",
              "2         CLH         2023-03-27  2024-03-10   פרטי  TMBAG7NE5E0147077   \n",
              "3         DLA         2024-03-07  2025-03-09   פרטי  TMBAP7NX8MY028697   \n",
              "4     B48B20A         2024-05-15  2025-01-19   פרטי  WBA71DY06MFK66386   \n",
              "\n",
              "   tzeva_cd    tzeva_rechev  zmig_kidmi  zmig_ahori sug_delek_nm  \\\n",
              "0        25             כסף   165/70R14   165/70R14        בנזין   \n",
              "1        22        אפור כהה  225/45 R18  225/45 R18        בנזין   \n",
              "2        80        שנהב לבן  205/55 R16  205/55 R16         דיזל   \n",
              "3        29        כסף מטלי  205/55 R17  205/55 R17        בנזין   \n",
              "4        15  אפור בהיר מטלי   225/50R17   225/50R17        בנזין   \n",
              "\n",
              "   horaat_rishum moed_aliya_lakvish kinuy_mishari  \n",
              "0            NaN               None         IGNIS  \n",
              "1       200950.0             2024-8       OCTAVIA  \n",
              "2       140049.0             2014-3       OCTAVIA  \n",
              "3       200950.0             2021-3       OCTAVIA  \n",
              "4       200998.0             2021-1          318I  "
            ],
            "text/html": [
              "\n",
              "  <div id=\"df-917d8b93-e40b-4414-b89d-f42ba7a260d5\" class=\"colab-df-container\">\n",
              "    <div>\n",
              "<style scoped>\n",
              "    .dataframe tbody tr th:only-of-type {\n",
              "        vertical-align: middle;\n",
              "    }\n",
              "\n",
              "    .dataframe tbody tr th {\n",
              "        vertical-align: top;\n",
              "    }\n",
              "\n",
              "    .dataframe thead th {\n",
              "        text-align: right;\n",
              "    }\n",
              "</style>\n",
              "<table border=\"1\" class=\"dataframe\">\n",
              "  <thead>\n",
              "    <tr style=\"text-align: right;\">\n",
              "      <th></th>\n",
              "      <th>_id</th>\n",
              "      <th>mispar_rechev</th>\n",
              "      <th>tozeret_cd</th>\n",
              "      <th>sug_degem</th>\n",
              "      <th>tozeret_nm</th>\n",
              "      <th>degem_cd</th>\n",
              "      <th>degem_nm</th>\n",
              "      <th>ramat_gimur</th>\n",
              "      <th>ramat_eivzur_betihuty</th>\n",
              "      <th>kvutzat_zihum</th>\n",
              "      <th>shnat_yitzur</th>\n",
              "      <th>degem_manoa</th>\n",
              "      <th>mivchan_acharon_dt</th>\n",
              "      <th>tokef_dt</th>\n",
              "      <th>baalut</th>\n",
              "      <th>misgeret</th>\n",
              "      <th>tzeva_cd</th>\n",
              "      <th>tzeva_rechev</th>\n",
              "      <th>zmig_kidmi</th>\n",
              "      <th>zmig_ahori</th>\n",
              "      <th>sug_delek_nm</th>\n",
              "      <th>horaat_rishum</th>\n",
              "      <th>moed_aliya_lakvish</th>\n",
              "      <th>kinuy_mishari</th>\n",
              "    </tr>\n",
              "  </thead>\n",
              "  <tbody>\n",
              "    <tr>\n",
              "      <th>0</th>\n",
              "      <td>1</td>\n",
              "      <td>7709728</td>\n",
              "      <td>683</td>\n",
              "      <td>P</td>\n",
              "      <td>סוזוקי-יפן</td>\n",
              "      <td>351</td>\n",
              "      <td>FHX51S</td>\n",
              "      <td>GL</td>\n",
              "      <td>NaN</td>\n",
              "      <td>NaN</td>\n",
              "      <td>2001</td>\n",
              "      <td>M13A</td>\n",
              "      <td>2024-07-11</td>\n",
              "      <td>2024-12-03</td>\n",
              "      <td>פרטי</td>\n",
              "      <td>JSAFHX51S10100474</td>\n",
              "      <td>25</td>\n",
              "      <td>כסף</td>\n",
              "      <td>165/70R14</td>\n",
              "      <td>165/70R14</td>\n",
              "      <td>בנזין</td>\n",
              "      <td>NaN</td>\n",
              "      <td>None</td>\n",
              "      <td>IGNIS</td>\n",
              "    </tr>\n",
              "    <tr>\n",
              "      <th>1</th>\n",
              "      <td>2</td>\n",
              "      <td>85729303</td>\n",
              "      <td>676</td>\n",
              "      <td>P</td>\n",
              "      <td>סקודה צ'כיה</td>\n",
              "      <td>1569</td>\n",
              "      <td>NX-NX34JD</td>\n",
              "      <td>STYLE</td>\n",
              "      <td>5.0</td>\n",
              "      <td>7.0</td>\n",
              "      <td>2024</td>\n",
              "      <td>DFY</td>\n",
              "      <td>2024-08-07</td>\n",
              "      <td>2025-08-06</td>\n",
              "      <td>פרטי</td>\n",
              "      <td>TMBAR8NXXRY178334</td>\n",
              "      <td>22</td>\n",
              "      <td>אפור כהה</td>\n",
              "      <td>225/45 R18</td>\n",
              "      <td>225/45 R18</td>\n",
              "      <td>בנזין</td>\n",
              "      <td>200950.0</td>\n",
              "      <td>2024-8</td>\n",
              "      <td>OCTAVIA</td>\n",
              "    </tr>\n",
              "    <tr>\n",
              "      <th>2</th>\n",
              "      <td>3</td>\n",
              "      <td>9801152</td>\n",
              "      <td>676</td>\n",
              "      <td>P</td>\n",
              "      <td>סקודה צ'כיה</td>\n",
              "      <td>302</td>\n",
              "      <td>5E3434</td>\n",
              "      <td>ELEGANCE</td>\n",
              "      <td>NaN</td>\n",
              "      <td>15.0</td>\n",
              "      <td>2014</td>\n",
              "      <td>CLH</td>\n",
              "      <td>2023-03-27</td>\n",
              "      <td>2024-03-10</td>\n",
              "      <td>פרטי</td>\n",
              "      <td>TMBAG7NE5E0147077</td>\n",
              "      <td>80</td>\n",
              "      <td>שנהב לבן</td>\n",
              "      <td>205/55 R16</td>\n",
              "      <td>205/55 R16</td>\n",
              "      <td>דיזל</td>\n",
              "      <td>140049.0</td>\n",
              "      <td>2014-3</td>\n",
              "      <td>OCTAVIA</td>\n",
              "    </tr>\n",
              "    <tr>\n",
              "      <th>3</th>\n",
              "      <td>4</td>\n",
              "      <td>53052702</td>\n",
              "      <td>676</td>\n",
              "      <td>P</td>\n",
              "      <td>סקודה צ'כיה</td>\n",
              "      <td>1065</td>\n",
              "      <td>NX33LD</td>\n",
              "      <td>DYNAMIC</td>\n",
              "      <td>2.0</td>\n",
              "      <td>7.0</td>\n",
              "      <td>2021</td>\n",
              "      <td>DLA</td>\n",
              "      <td>2024-03-07</td>\n",
              "      <td>2025-03-09</td>\n",
              "      <td>פרטי</td>\n",
              "      <td>TMBAP7NX8MY028697</td>\n",
              "      <td>29</td>\n",
              "      <td>כסף מטלי</td>\n",
              "      <td>205/55 R17</td>\n",
              "      <td>205/55 R17</td>\n",
              "      <td>בנזין</td>\n",
              "      <td>200950.0</td>\n",
              "      <td>2021-3</td>\n",
              "      <td>OCTAVIA</td>\n",
              "    </tr>\n",
              "    <tr>\n",
              "      <th>4</th>\n",
              "      <td>5</td>\n",
              "      <td>45282502</td>\n",
              "      <td>143</td>\n",
              "      <td>P</td>\n",
              "      <td>ב מ וו גרמניה</td>\n",
              "      <td>1296</td>\n",
              "      <td>71DY</td>\n",
              "      <td>BUSINESS</td>\n",
              "      <td>3.0</td>\n",
              "      <td>12.0</td>\n",
              "      <td>2021</td>\n",
              "      <td>B48B20A</td>\n",
              "      <td>2024-05-15</td>\n",
              "      <td>2025-01-19</td>\n",
              "      <td>פרטי</td>\n",
              "      <td>WBA71DY06MFK66386</td>\n",
              "      <td>15</td>\n",
              "      <td>אפור בהיר מטלי</td>\n",
              "      <td>225/50R17</td>\n",
              "      <td>225/50R17</td>\n",
              "      <td>בנזין</td>\n",
              "      <td>200998.0</td>\n",
              "      <td>2021-1</td>\n",
              "      <td>318I</td>\n",
              "    </tr>\n",
              "  </tbody>\n",
              "</table>\n",
              "</div>\n",
              "    <div class=\"colab-df-buttons\">\n",
              "\n",
              "  <div class=\"colab-df-container\">\n",
              "    <button class=\"colab-df-convert\" onclick=\"convertToInteractive('df-917d8b93-e40b-4414-b89d-f42ba7a260d5')\"\n",
              "            title=\"Convert this dataframe to an interactive table.\"\n",
              "            style=\"display:none;\">\n",
              "\n",
              "  <svg xmlns=\"http://www.w3.org/2000/svg\" height=\"24px\" viewBox=\"0 -960 960 960\">\n",
              "    <path d=\"M120-120v-720h720v720H120Zm60-500h600v-160H180v160Zm220 220h160v-160H400v160Zm0 220h160v-160H400v160ZM180-400h160v-160H180v160Zm440 0h160v-160H620v160ZM180-180h160v-160H180v160Zm440 0h160v-160H620v160Z\"/>\n",
              "  </svg>\n",
              "    </button>\n",
              "\n",
              "  <style>\n",
              "    .colab-df-container {\n",
              "      display:flex;\n",
              "      gap: 12px;\n",
              "    }\n",
              "\n",
              "    .colab-df-convert {\n",
              "      background-color: #E8F0FE;\n",
              "      border: none;\n",
              "      border-radius: 50%;\n",
              "      cursor: pointer;\n",
              "      display: none;\n",
              "      fill: #1967D2;\n",
              "      height: 32px;\n",
              "      padding: 0 0 0 0;\n",
              "      width: 32px;\n",
              "    }\n",
              "\n",
              "    .colab-df-convert:hover {\n",
              "      background-color: #E2EBFA;\n",
              "      box-shadow: 0px 1px 2px rgba(60, 64, 67, 0.3), 0px 1px 3px 1px rgba(60, 64, 67, 0.15);\n",
              "      fill: #174EA6;\n",
              "    }\n",
              "\n",
              "    .colab-df-buttons div {\n",
              "      margin-bottom: 4px;\n",
              "    }\n",
              "\n",
              "    [theme=dark] .colab-df-convert {\n",
              "      background-color: #3B4455;\n",
              "      fill: #D2E3FC;\n",
              "    }\n",
              "\n",
              "    [theme=dark] .colab-df-convert:hover {\n",
              "      background-color: #434B5C;\n",
              "      box-shadow: 0px 1px 3px 1px rgba(0, 0, 0, 0.15);\n",
              "      filter: drop-shadow(0px 1px 2px rgba(0, 0, 0, 0.3));\n",
              "      fill: #FFFFFF;\n",
              "    }\n",
              "  </style>\n",
              "\n",
              "    <script>\n",
              "      const buttonEl =\n",
              "        document.querySelector('#df-917d8b93-e40b-4414-b89d-f42ba7a260d5 button.colab-df-convert');\n",
              "      buttonEl.style.display =\n",
              "        google.colab.kernel.accessAllowed ? 'block' : 'none';\n",
              "\n",
              "      async function convertToInteractive(key) {\n",
              "        const element = document.querySelector('#df-917d8b93-e40b-4414-b89d-f42ba7a260d5');\n",
              "        const dataTable =\n",
              "          await google.colab.kernel.invokeFunction('convertToInteractive',\n",
              "                                                    [key], {});\n",
              "        if (!dataTable) return;\n",
              "\n",
              "        const docLinkHtml = 'Like what you see? Visit the ' +\n",
              "          '<a target=\"_blank\" href=https://colab.research.google.com/notebooks/data_table.ipynb>data table notebook</a>'\n",
              "          + ' to learn more about interactive tables.';\n",
              "        element.innerHTML = '';\n",
              "        dataTable['output_type'] = 'display_data';\n",
              "        await google.colab.output.renderOutput(dataTable, element);\n",
              "        const docLink = document.createElement('div');\n",
              "        docLink.innerHTML = docLinkHtml;\n",
              "        element.appendChild(docLink);\n",
              "      }\n",
              "    </script>\n",
              "  </div>\n",
              "\n",
              "\n",
              "<div id=\"df-a074e466-5ede-41df-a226-7061384ec199\">\n",
              "  <button class=\"colab-df-quickchart\" onclick=\"quickchart('df-a074e466-5ede-41df-a226-7061384ec199')\"\n",
              "            title=\"Suggest charts\"\n",
              "            style=\"display:none;\">\n",
              "\n",
              "<svg xmlns=\"http://www.w3.org/2000/svg\" height=\"24px\"viewBox=\"0 0 24 24\"\n",
              "     width=\"24px\">\n",
              "    <g>\n",
              "        <path d=\"M19 3H5c-1.1 0-2 .9-2 2v14c0 1.1.9 2 2 2h14c1.1 0 2-.9 2-2V5c0-1.1-.9-2-2-2zM9 17H7v-7h2v7zm4 0h-2V7h2v10zm4 0h-2v-4h2v4z\"/>\n",
              "    </g>\n",
              "</svg>\n",
              "  </button>\n",
              "\n",
              "<style>\n",
              "  .colab-df-quickchart {\n",
              "      --bg-color: #E8F0FE;\n",
              "      --fill-color: #1967D2;\n",
              "      --hover-bg-color: #E2EBFA;\n",
              "      --hover-fill-color: #174EA6;\n",
              "      --disabled-fill-color: #AAA;\n",
              "      --disabled-bg-color: #DDD;\n",
              "  }\n",
              "\n",
              "  [theme=dark] .colab-df-quickchart {\n",
              "      --bg-color: #3B4455;\n",
              "      --fill-color: #D2E3FC;\n",
              "      --hover-bg-color: #434B5C;\n",
              "      --hover-fill-color: #FFFFFF;\n",
              "      --disabled-bg-color: #3B4455;\n",
              "      --disabled-fill-color: #666;\n",
              "  }\n",
              "\n",
              "  .colab-df-quickchart {\n",
              "    background-color: var(--bg-color);\n",
              "    border: none;\n",
              "    border-radius: 50%;\n",
              "    cursor: pointer;\n",
              "    display: none;\n",
              "    fill: var(--fill-color);\n",
              "    height: 32px;\n",
              "    padding: 0;\n",
              "    width: 32px;\n",
              "  }\n",
              "\n",
              "  .colab-df-quickchart:hover {\n",
              "    background-color: var(--hover-bg-color);\n",
              "    box-shadow: 0 1px 2px rgba(60, 64, 67, 0.3), 0 1px 3px 1px rgba(60, 64, 67, 0.15);\n",
              "    fill: var(--button-hover-fill-color);\n",
              "  }\n",
              "\n",
              "  .colab-df-quickchart-complete:disabled,\n",
              "  .colab-df-quickchart-complete:disabled:hover {\n",
              "    background-color: var(--disabled-bg-color);\n",
              "    fill: var(--disabled-fill-color);\n",
              "    box-shadow: none;\n",
              "  }\n",
              "\n",
              "  .colab-df-spinner {\n",
              "    border: 2px solid var(--fill-color);\n",
              "    border-color: transparent;\n",
              "    border-bottom-color: var(--fill-color);\n",
              "    animation:\n",
              "      spin 1s steps(1) infinite;\n",
              "  }\n",
              "\n",
              "  @keyframes spin {\n",
              "    0% {\n",
              "      border-color: transparent;\n",
              "      border-bottom-color: var(--fill-color);\n",
              "      border-left-color: var(--fill-color);\n",
              "    }\n",
              "    20% {\n",
              "      border-color: transparent;\n",
              "      border-left-color: var(--fill-color);\n",
              "      border-top-color: var(--fill-color);\n",
              "    }\n",
              "    30% {\n",
              "      border-color: transparent;\n",
              "      border-left-color: var(--fill-color);\n",
              "      border-top-color: var(--fill-color);\n",
              "      border-right-color: var(--fill-color);\n",
              "    }\n",
              "    40% {\n",
              "      border-color: transparent;\n",
              "      border-right-color: var(--fill-color);\n",
              "      border-top-color: var(--fill-color);\n",
              "    }\n",
              "    60% {\n",
              "      border-color: transparent;\n",
              "      border-right-color: var(--fill-color);\n",
              "    }\n",
              "    80% {\n",
              "      border-color: transparent;\n",
              "      border-right-color: var(--fill-color);\n",
              "      border-bottom-color: var(--fill-color);\n",
              "    }\n",
              "    90% {\n",
              "      border-color: transparent;\n",
              "      border-bottom-color: var(--fill-color);\n",
              "    }\n",
              "  }\n",
              "</style>\n",
              "\n",
              "  <script>\n",
              "    async function quickchart(key) {\n",
              "      const quickchartButtonEl =\n",
              "        document.querySelector('#' + key + ' button');\n",
              "      quickchartButtonEl.disabled = true;  // To prevent multiple clicks.\n",
              "      quickchartButtonEl.classList.add('colab-df-spinner');\n",
              "      try {\n",
              "        const charts = await google.colab.kernel.invokeFunction(\n",
              "            'suggestCharts', [key], {});\n",
              "      } catch (error) {\n",
              "        console.error('Error during call to suggestCharts:', error);\n",
              "      }\n",
              "      quickchartButtonEl.classList.remove('colab-df-spinner');\n",
              "      quickchartButtonEl.classList.add('colab-df-quickchart-complete');\n",
              "    }\n",
              "    (() => {\n",
              "      let quickchartButtonEl =\n",
              "        document.querySelector('#df-a074e466-5ede-41df-a226-7061384ec199 button');\n",
              "      quickchartButtonEl.style.display =\n",
              "        google.colab.kernel.accessAllowed ? 'block' : 'none';\n",
              "    })();\n",
              "  </script>\n",
              "</div>\n",
              "\n",
              "    </div>\n",
              "  </div>\n"
            ],
            "application/vnd.google.colaboratory.intrinsic+json": {
              "type": "dataframe",
              "variable_name": "data_df"
            }
          },
          "metadata": {},
          "execution_count": 29
        }
      ],
      "source": [
        "import requests\n",
        "import pandas as pd\n",
        "import ipywidgets as widgets\n",
        "from google.colab.widgets import Grid"
      ]
    },
    {
      "cell_type": "markdown",
      "source": [
        "Create data frame from the dataset"
      ],
      "metadata": {
        "id": "SJsJF-wzPwdz"
      }
    },
    {
      "cell_type": "code",
      "source": [
        "url = 'https://data.gov.il/api/3/action/datastore_search?resource_id=053cea08-09bc-40ec-8f7a-156f0677aff3'\n",
        "pd.set_option(\"display.max_columns\", None)\n",
        "response = requests.get(url)\n",
        "data = response.json()\n",
        "df = pd.DataFrame(data)\n",
        "\n",
        "data_df = pd.DataFrame(data['result']['records'])\n",
        "\n",
        "data_df.head()"
      ],
      "metadata": {
        "id": "8sqkcfB8PvTK"
      },
      "execution_count": null,
      "outputs": []
    },
    {
      "cell_type": "markdown",
      "source": [
        "**Create a dictionary of the unique manufacturers and the cars they make**"
      ],
      "metadata": {
        "id": "q_klihoqP5L2"
      }
    },
    {
      "cell_type": "code",
      "source": [
        "maker_dict = {}\n",
        "for index, row in data_df.iterrows():\n",
        "  if maker_dict.get(row[\"tozeret_nm\"]) == None:\n",
        "    maker_dict[row[\"tozeret_nm\"]] = []\n",
        "  else:\n",
        "    if row[\"kinuy_mishari\"] not in maker_dict[row[\"tozeret_nm\"]]:\n",
        "      maker_dict[row[\"tozeret_nm\"]].append(row[\"kinuy_mishari\"])"
      ],
      "metadata": {
        "id": "eGySYZ5I0hSA"
      },
      "execution_count": 13,
      "outputs": []
    },
    {
      "cell_type": "markdown",
      "source": [
        "**Create the widgets and display the unique colors for each car**"
      ],
      "metadata": {
        "id": "hvmjTRwWQBHb"
      }
    },
    {
      "cell_type": "code",
      "source": [
        "car_dropdown = widgets.Dropdown(\n",
        "    options=list(maker_dict.keys()),\n",
        "    description='Manufacturer:',\n",
        "    style={'description_width': 'initial'}\n",
        ")\n",
        "\n",
        "model_dropdown = widgets.Dropdown(\n",
        "    options=maker_dict[car_dropdown.value],\n",
        "    description='Model:',\n",
        "    style={'description_width': 'initial'}\n",
        ")\n",
        "\n",
        "\n",
        "def update_model_dropdown(change):\n",
        "    \"\"\"Updates model dropdown options based on selected car maker.\"\"\"\n",
        "    selected_maker = change['new']\n",
        "    model_dropdown.options = maker_dict.get(selected_maker, [])  # Handle missing keys\n",
        "\n",
        "def print_ramat_gimur(selected_model):\n",
        "    list_unique_ramat_gimur = []\n",
        "    for index, row in data_df[data_df['kinuy_mishari'] == selected_model].iterrows():\n",
        "        if row[\"ramat_gimur\"] not in list_unique_ramat_gimur:\n",
        "            list_unique_ramat_gimur.append(row[\"ramat_gimur\"])\n",
        "\n",
        "    with grid.output_to(1, 1):\n",
        "      grid.clear_cell()\n",
        "      string_of_unique_ramat_gimur = \"\"\n",
        "      for index, ramat_gimur in enumerate(list_unique_ramat_gimur):\n",
        "        if index != len(list_unique_ramat_gimur) - 1:\n",
        "          string_of_unique_ramat_gimur += ramat_gimur + \", \"\n",
        "        else:\n",
        "          string_of_unique_ramat_gimur += ramat_gimur\n",
        "\n",
        "      print(string_of_unique_ramat_gimur)\n",
        "\n",
        "\n",
        "def update_amount_of_cars(change):\n",
        "    selected_model = change['new']\n",
        "\n",
        "    with grid.output_to(0, 1):\n",
        "      grid.clear_cell()\n",
        "      print(len(data_df[data_df['kinuy_mishari'] == selected_model]))\n",
        "\n",
        "    print_ramat_gimur(selected_model)\n",
        "\n",
        "\n",
        "# Connect car dropdown change to update function\n",
        "car_dropdown.observe(update_model_dropdown, names='value')\n",
        "\n",
        "# Update car dropdown options with maker names\n",
        "car_dropdown.options = list(maker_dict.keys())\n",
        "\n",
        "# A button which updates the data in the grid\n",
        "update_button = widgets.Button(description='Update Records')\n",
        "update_button.on_click(lambda b: update_amount_of_cars({'new': model_dropdown.value}))\n",
        "\n",
        "# הצגת הטופס\n",
        "display(widgets.VBox([car_dropdown, model_dropdown, update_button]))\n",
        "print(\"\\n\")\n",
        "\n",
        "grid = Grid(2, 2, header_row=False, header_column=False)\n",
        "\n",
        "with grid.output_to(0, 0):\n",
        "  print(\"Total records:\")\n",
        "\n",
        "with grid.output_to(1, 0):\n",
        "  print(\"Unique Ramat Gimur:\")\n"
      ],
      "metadata": {
        "colab": {
          "base_uri": "https://localhost:8080/",
          "height": 189,
          "referenced_widgets": [
            "585ff896de324218a6f37bdd2227ec86",
            "3bdee8716748419aae87ed78e30a4c04",
            "317c9ac0a727410ab25edc1933e2ed80",
            "f13731d11af04d698b05742e9f338452",
            "6e1f850bdd484927858bf4d5a3361f28",
            "f48da407010f4213b0880537344158e3",
            "6375f7e22b644b96ad0579ab14b7a1e0",
            "3d746a806cc84c3ebcb70e431fc2f442",
            "bfd6fcef76484b5ba5b2212da2875c47",
            "e29c50c97bab4423bee87fa8f5a6f5ca",
            "2400bb29e48d41f29e542c86eb4900c9"
          ]
        },
        "id": "svvIXFDk0MhR",
        "outputId": "e2c4fdbd-3705-4f3c-b503-052a925ef643"
      },
      "execution_count": 69,
      "outputs": [
        {
          "output_type": "display_data",
          "data": {
            "text/plain": [
              "VBox(children=(Dropdown(description='Manufacturer:', options=('סוזוקי-יפן', \"סקודה צ'כיה\", 'ב מ וו גרמניה', 'ק…"
            ],
            "application/vnd.jupyter.widget-view+json": {
              "version_major": 2,
              "version_minor": 0,
              "model_id": "585ff896de324218a6f37bdd2227ec86"
            }
          },
          "metadata": {}
        },
        {
          "output_type": "stream",
          "name": "stdout",
          "text": [
            "\n",
            "\n"
          ]
        },
        {
          "output_type": "display_data",
          "data": {
            "text/plain": [
              "<IPython.core.display.HTML object>"
            ],
            "text/html": [
              "<style>\n",
              "       table#id30, #id30 > tbody > tr > th, #id30 > tbody > tr > td {\n",
              "         border: 1px solid lightgray;\n",
              "         border-collapse:collapse;\n",
              "         \n",
              "        }</style>"
            ]
          },
          "metadata": {}
        },
        {
          "output_type": "display_data",
          "data": {
            "text/plain": [
              "<IPython.core.display.HTML object>"
            ],
            "text/html": [
              "<table id=id30><tr><td id=id30-0-0></td><td id=id30-0-1></td></tr><tr><td id=id30-1-0></td><td id=id30-1-1></td></tr></table>"
            ]
          },
          "metadata": {}
        },
        {
          "output_type": "display_data",
          "data": {
            "text/plain": [
              "<IPython.core.display.Javascript object>"
            ],
            "application/javascript": [
              "window[\"5114b054-ab4e-11ef-8fad-0242ac1c000c\"] = google.colab.output.getActiveOutputArea();\n",
              "//# sourceURL=js_3391219427"
            ]
          },
          "metadata": {}
        },
        {
          "output_type": "display_data",
          "data": {
            "text/plain": [
              "<IPython.core.display.Javascript object>"
            ],
            "application/javascript": [
              "window[\"51150130-ab4e-11ef-8fad-0242ac1c000c\"] = document.querySelector(\"#id30-0-0\");\n",
              "//# sourceURL=js_ea56a71b94"
            ]
          },
          "metadata": {}
        },
        {
          "output_type": "display_data",
          "data": {
            "text/plain": [
              "<IPython.core.display.Javascript object>"
            ],
            "application/javascript": [
              "window[\"51154c58-ab4e-11ef-8fad-0242ac1c000c\"] = google.colab.output.setActiveOutputArea(window[\"51150130-ab4e-11ef-8fad-0242ac1c000c\"]);\n",
              "//# sourceURL=js_68c5445d2e"
            ]
          },
          "metadata": {}
        },
        {
          "output_type": "stream",
          "name": "stdout",
          "text": [
            "Total records:\n"
          ]
        },
        {
          "output_type": "display_data",
          "data": {
            "text/plain": [
              "<IPython.core.display.Javascript object>"
            ],
            "application/javascript": [
              "window[\"51166a3e-ab4e-11ef-8fad-0242ac1c000c\"] = google.colab.output.setActiveOutputArea(window[\"5114b054-ab4e-11ef-8fad-0242ac1c000c\"]);\n",
              "//# sourceURL=js_023da5f56f"
            ]
          },
          "metadata": {}
        },
        {
          "output_type": "display_data",
          "data": {
            "text/plain": [
              "<IPython.core.display.Javascript object>"
            ],
            "application/javascript": [
              "window[\"511a0a9a-ab4e-11ef-8fad-0242ac1c000c\"] = google.colab.output.getActiveOutputArea();\n",
              "//# sourceURL=js_90178ac133"
            ]
          },
          "metadata": {}
        },
        {
          "output_type": "display_data",
          "data": {
            "text/plain": [
              "<IPython.core.display.Javascript object>"
            ],
            "application/javascript": [
              "window[\"511a50c2-ab4e-11ef-8fad-0242ac1c000c\"] = document.querySelector(\"#id30-1-0\");\n",
              "//# sourceURL=js_49ac3c89df"
            ]
          },
          "metadata": {}
        },
        {
          "output_type": "display_data",
          "data": {
            "text/plain": [
              "<IPython.core.display.Javascript object>"
            ],
            "application/javascript": [
              "window[\"511aa31a-ab4e-11ef-8fad-0242ac1c000c\"] = google.colab.output.setActiveOutputArea(window[\"511a50c2-ab4e-11ef-8fad-0242ac1c000c\"]);\n",
              "//# sourceURL=js_91619cd01a"
            ]
          },
          "metadata": {}
        },
        {
          "output_type": "stream",
          "name": "stdout",
          "text": [
            "Unique Ramat Gimur:\n"
          ]
        },
        {
          "output_type": "display_data",
          "data": {
            "text/plain": [
              "<IPython.core.display.Javascript object>"
            ],
            "application/javascript": [
              "window[\"511c4814-ab4e-11ef-8fad-0242ac1c000c\"] = google.colab.output.setActiveOutputArea(window[\"511a0a9a-ab4e-11ef-8fad-0242ac1c000c\"]);\n",
              "//# sourceURL=js_7de491c97c"
            ]
          },
          "metadata": {}
        },
        {
          "output_type": "display_data",
          "data": {
            "text/plain": [
              "<IPython.core.display.Javascript object>"
            ],
            "application/javascript": [
              "window[\"565b1544-ab4e-11ef-8fad-0242ac1c000c\"] = google.colab.output.getActiveOutputArea();\n",
              "//# sourceURL=js_4a28a29c53"
            ]
          },
          "metadata": {}
        },
        {
          "output_type": "display_data",
          "data": {
            "text/plain": [
              "<IPython.core.display.Javascript object>"
            ],
            "application/javascript": [
              "window[\"565baa0e-ab4e-11ef-8fad-0242ac1c000c\"] = document.querySelector(\"#id30-0-1\");\n",
              "//# sourceURL=js_ab6b7c7d32"
            ]
          },
          "metadata": {}
        },
        {
          "output_type": "display_data",
          "data": {
            "text/plain": [
              "<IPython.core.display.Javascript object>"
            ],
            "application/javascript": [
              "window[\"565c2f10-ab4e-11ef-8fad-0242ac1c000c\"] = google.colab.output.setActiveOutputArea(window[\"565baa0e-ab4e-11ef-8fad-0242ac1c000c\"]);\n",
              "//# sourceURL=js_9c0b943467"
            ]
          },
          "metadata": {}
        },
        {
          "output_type": "display_data",
          "data": {
            "text/plain": [
              "<IPython.core.display.Javascript object>"
            ],
            "application/javascript": [
              "window[\"566090be-ab4e-11ef-8fad-0242ac1c000c\"] = google.colab.output.setActiveOutputArea(window[\"565b1544-ab4e-11ef-8fad-0242ac1c000c\"]);\n",
              "//# sourceURL=js_3867659e53"
            ]
          },
          "metadata": {}
        },
        {
          "output_type": "display_data",
          "data": {
            "text/plain": [
              "<IPython.core.display.Javascript object>"
            ],
            "application/javascript": [
              "window[\"5664fce4-ab4e-11ef-8fad-0242ac1c000c\"] = google.colab.output.getActiveOutputArea();\n",
              "//# sourceURL=js_ac9fcc5824"
            ]
          },
          "metadata": {}
        },
        {
          "output_type": "display_data",
          "data": {
            "text/plain": [
              "<IPython.core.display.Javascript object>"
            ],
            "application/javascript": [
              "window[\"56656346-ab4e-11ef-8fad-0242ac1c000c\"] = document.querySelector(\"#id30-1-1\");\n",
              "//# sourceURL=js_f08a09c740"
            ]
          },
          "metadata": {}
        },
        {
          "output_type": "display_data",
          "data": {
            "text/plain": [
              "<IPython.core.display.Javascript object>"
            ],
            "application/javascript": [
              "window[\"5665c598-ab4e-11ef-8fad-0242ac1c000c\"] = google.colab.output.setActiveOutputArea(window[\"56656346-ab4e-11ef-8fad-0242ac1c000c\"]);\n",
              "//# sourceURL=js_3fa87d569f"
            ]
          },
          "metadata": {}
        },
        {
          "output_type": "display_data",
          "data": {
            "text/plain": [
              "<IPython.core.display.Javascript object>"
            ],
            "application/javascript": [
              "window[\"56678ac2-ab4e-11ef-8fad-0242ac1c000c\"] = google.colab.output.setActiveOutputArea(window[\"5664fce4-ab4e-11ef-8fad-0242ac1c000c\"]);\n",
              "//# sourceURL=js_09eb3c1b7b"
            ]
          },
          "metadata": {}
        },
        {
          "output_type": "display_data",
          "data": {
            "text/plain": [
              "<IPython.core.display.Javascript object>"
            ],
            "application/javascript": [
              "window[\"5a801b6a-ab4e-11ef-8fad-0242ac1c000c\"] = google.colab.output.getActiveOutputArea();\n",
              "//# sourceURL=js_8f88949596"
            ]
          },
          "metadata": {}
        },
        {
          "output_type": "display_data",
          "data": {
            "text/plain": [
              "<IPython.core.display.Javascript object>"
            ],
            "application/javascript": [
              "window[\"5a808942-ab4e-11ef-8fad-0242ac1c000c\"] = document.querySelector(\"#id30-0-1\");\n",
              "//# sourceURL=js_030592cbe5"
            ]
          },
          "metadata": {}
        },
        {
          "output_type": "display_data",
          "data": {
            "text/plain": [
              "<IPython.core.display.Javascript object>"
            ],
            "application/javascript": [
              "window[\"5a80f940-ab4e-11ef-8fad-0242ac1c000c\"] = google.colab.output.setActiveOutputArea(window[\"5a808942-ab4e-11ef-8fad-0242ac1c000c\"]);\n",
              "//# sourceURL=js_e0518c2331"
            ]
          },
          "metadata": {}
        },
        {
          "output_type": "stream",
          "name": "stdout",
          "text": [
            "1\n"
          ]
        },
        {
          "output_type": "display_data",
          "data": {
            "text/plain": [
              "<IPython.core.display.Javascript object>"
            ],
            "application/javascript": [
              "window[\"5a84225a-ab4e-11ef-8fad-0242ac1c000c\"] = google.colab.output.setActiveOutputArea(window[\"5a801b6a-ab4e-11ef-8fad-0242ac1c000c\"]);\n",
              "//# sourceURL=js_ce081d186c"
            ]
          },
          "metadata": {}
        },
        {
          "output_type": "display_data",
          "data": {
            "text/plain": [
              "<IPython.core.display.Javascript object>"
            ],
            "application/javascript": [
              "window[\"5a87abaa-ab4e-11ef-8fad-0242ac1c000c\"] = google.colab.output.getActiveOutputArea();\n",
              "//# sourceURL=js_a4f565e356"
            ]
          },
          "metadata": {}
        },
        {
          "output_type": "display_data",
          "data": {
            "text/plain": [
              "<IPython.core.display.Javascript object>"
            ],
            "application/javascript": [
              "window[\"5a880be0-ab4e-11ef-8fad-0242ac1c000c\"] = document.querySelector(\"#id30-1-1\");\n",
              "//# sourceURL=js_cc6397299b"
            ]
          },
          "metadata": {}
        },
        {
          "output_type": "display_data",
          "data": {
            "text/plain": [
              "<IPython.core.display.Javascript object>"
            ],
            "application/javascript": [
              "window[\"5a886720-ab4e-11ef-8fad-0242ac1c000c\"] = google.colab.output.setActiveOutputArea(window[\"5a880be0-ab4e-11ef-8fad-0242ac1c000c\"]);\n",
              "//# sourceURL=js_681544cff4"
            ]
          },
          "metadata": {}
        },
        {
          "output_type": "stream",
          "name": "stdout",
          "text": [
            "PREM AMG L\n"
          ]
        },
        {
          "output_type": "display_data",
          "data": {
            "text/plain": [
              "<IPython.core.display.Javascript object>"
            ],
            "application/javascript": [
              "window[\"5a89df74-ab4e-11ef-8fad-0242ac1c000c\"] = google.colab.output.setActiveOutputArea(window[\"5a87abaa-ab4e-11ef-8fad-0242ac1c000c\"]);\n",
              "//# sourceURL=js_174358606d"
            ]
          },
          "metadata": {}
        }
      ]
    }
  ]
}